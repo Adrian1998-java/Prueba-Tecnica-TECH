{
 "cells": [
  {
   "cell_type": "code",
   "execution_count": 195,
   "metadata": {},
   "outputs": [],
   "source": [
    "import pandas as pd \n",
    "import chardet"
   ]
  },
  {
   "cell_type": "code",
   "execution_count": 196,
   "metadata": {},
   "outputs": [
    {
     "name": "stdout",
     "output_type": "stream",
     "text": [
      "Codificacion de ventas -> ISO-8859-1\n",
      "Codificacion de vendedores -> ISO-8859-1\n",
      "Codificacion de paises -> utf-8\n"
     ]
    }
   ],
   "source": [
    "# Miramos que codificacion tienen los archivos y pasamos el resultados a df con ayuda\n",
    "# de pandas para ayudarnos mejor\n",
    "with open(\"src/ventas(in).csv\", \"rb\") as f:\n",
    "    result = chardet.detect(f.read())\n",
    "df_ventas = pd.read_csv(\"src/ventas(in).csv\",sep=';',encoding=result[\"encoding\"], parse_dates=[\"Fecha de venta\"], dayfirst=True)\n",
    "print(\"Codificacion de ventas -> \"+result[\"encoding\"])\n",
    "\n",
    "with open(\"src/vendedores(in).csv\", \"rb\") as f:\n",
    "    result = chardet.detect(f.read())\n",
    "df_vendedores = pd.read_csv(\"src/vendedores(in).csv\",sep=';',encoding=result[\"encoding\"])\n",
    "print(\"Codificacion de vendedores -> \"+result[\"encoding\"])\n",
    "\n",
    "with open(\"src/paises(in).csv\", \"rb\") as f:\n",
    "    result = chardet.detect(f.read())\n",
    "df_paises = pd.read_csv(\"src/paises(in).csv\", sep=',',encoding=result[\"encoding\"])\n",
    "print(\"Codificacion de paises -> \"+result[\"encoding\"])"
   ]
  },
  {
   "cell_type": "code",
   "execution_count": 197,
   "metadata": {},
   "outputs": [
    {
     "name": "stdout",
     "output_type": "stream",
     "text": [
      "     Número de Pedido Fecha de venta                                Producto  \\\n",
      "0              104615     2024-03-17               innovate killer e-markets   \n",
      "1              104844     2024-05-15       generate holistic functionalities   \n",
      "2              105001     2024-02-01      aggregate compelling web-readiness   \n",
      "3              105008     2024-02-29              embrace impactful networks   \n",
      "4              105054     2024-04-19          architect compelling e-tailers   \n",
      "..                ...            ...                                     ...   \n",
      "469            990322     2024-01-09        utilize holistic infrastructures   \n",
      "470            991362     2024-06-02       transition seamless architectures   \n",
      "471            992366     2024-04-23         synthesize virtual applications   \n",
      "472            996046     2024-01-07               e-enable robust solutions   \n",
      "473            997304     2024-04-04  aggregate collaborative info-mediaries   \n",
      "\n",
      "    Operador  Cantidad vendida  Ingreso Tipo de venta       Región  \n",
      "0         19                14    91157          fría  Reino Unido  \n",
      "1         56                 2     3852          fría     Alemania  \n",
      "2         55                10    33705      caliente     Alemania  \n",
      "3         39                 2    15694      caliente       Italia  \n",
      "4      26,27                 2     9029      caliente      Francia  \n",
      "..       ...               ...      ...           ...          ...  \n",
      "469       44                12    40037      caliente       España  \n",
      "470       14                11   103402          fría        Japón  \n",
      "471    51,46                13    93702          fría     Alemania  \n",
      "472    38,33                13    14774          fría       España  \n",
      "473    43,52                19   177217          fría       España  \n",
      "\n",
      "[474 rows x 8 columns]\n"
     ]
    }
   ],
   "source": [
    "\n",
    "#Creamos 2 DataFrames, donde buscamos y separamos por valores de df_paises\n",
    "#Luego, volvemos a juntarlo en uno solo\n",
    "df_semi_1 = df_ventas.merge(df_paises,left_on='Región',right_on='ISO2', how='left')\n",
    "df_semi_1 = df_semi_1.dropna()\n",
    "\n",
    "df_semi_2 = df_ventas.merge(df_paises,left_on='Región',right_on='País', how='left')\n",
    "df_semi_2 = df_semi_2.dropna()\n",
    "\n",
    "df_ventas = df_semi_1.merge(df_semi_2, how='outer')\n",
    "\n",
    "df_ventas.drop(columns=[\"Región\",\"ISO2\"], inplace=True)\n",
    "df_ventas.rename(columns={\"País\":\"Región\"}, inplace=True)\n",
    "\n",
    "print(df_ventas)"
   ]
  },
  {
   "cell_type": "code",
   "execution_count": 198,
   "metadata": {},
   "outputs": [
    {
     "name": "stdout",
     "output_type": "stream",
     "text": [
      "   Idioma          Región                Equipo  Status  E\n",
      "0      EN        Alemania          VC-España-EN  activo  1\n",
      "1      EN        Alemania  VC-Estados Unidos-EN  activo  1\n",
      "2      EN          Brasil        VC-Alemania-ES  activo  1\n",
      "3      EN           China          VC-España-EN  activo  3\n",
      "4      EN  Estados Unidos        VC-Alemania-EN  activo  1\n",
      "5      EN  Estados Unidos          VC-España-EN  activo  1\n",
      "6      EN  Estados Unidos  VC-Estados Unidos-EN  activo  1\n",
      "7      EN         Francia        VC-Alemania-ES  activo  1\n",
      "8      EN         Francia  VC-Estados Unidos-EN  activo  2\n",
      "9      EN         Francia  VC-Estados Unidos-ES  activo  1\n",
      "10     EN          Italia  VC-Estados Unidos-EN  activo  1\n",
      "11     EN           Japón          VC-España-EN  activo  1\n",
      "12     ES        Alemania        VC-Alemania-EN  activo  1\n",
      "13     ES        Alemania          VC-España-ES  activo  1\n",
      "14     ES           China        VC-Alemania-EN  activo  1\n",
      "15     ES          España        VC-Alemania-ES  activo  1\n",
      "16     ES          España  VC-Estados Unidos-EN  activo  2\n",
      "17     ES  Estados Unidos        VC-Alemania-EN  activo  1\n",
      "18     ES  Estados Unidos        VC-Alemania-ES  activo  1\n",
      "19     ES         Francia        VC-Alemania-EN  activo  1\n",
      "20     ES         Francia          VC-España-ES  activo  1\n",
      "21     ES         Francia  VC-Estados Unidos-ES  activo  1\n",
      "22     ES           India  VC-Estados Unidos-EN  activo  1\n",
      "23     ES          Italia  VC-Estados Unidos-ES  activo  1\n",
      "24     ES           Japón  VC-Estados Unidos-ES  activo  1\n",
      "25     ES     Reino Unido        VC-Alemania-ES  activo  1\n",
      "26     ES     Reino Unido  VC-Estados Unidos-ES  activo  1\n"
     ]
    }
   ],
   "source": [
    "#Para saber los idiomas (EN,ES) en distintos paises y de personas\n",
    "#Lo necesitaremos para después\n",
    "df_equipos = df_vendedores[df_vendedores[\"Status\"] != \"baja\"]\n",
    "df_equipos = df_equipos.groupby([\"Idioma\",\"País\",\"Equipo\",\"Status\"]).size().reset_index(name=\"E\")\n",
    "df_equipos.rename(columns={\"País\":\"Región\"}, inplace=True)\n",
    "\n",
    "print(df_equipos)\n",
    "\n"
   ]
  },
  {
   "cell_type": "code",
   "execution_count": 199,
   "metadata": {},
   "outputs": [
    {
     "name": "stdout",
     "output_type": "stream",
     "text": [
      "             Día   Región Idioma                Equipo Tipo de venta  \\\n",
      "0     2024-01-01   Brasil     EN        VC-Alemania-ES      caliente   \n",
      "1     2024-01-01    China     EN          VC-España-EN          fría   \n",
      "2     2024-01-01    China     ES        VC-Alemania-EN          fría   \n",
      "3     2024-01-01  Francia     EN        VC-Alemania-ES      caliente   \n",
      "4     2024-01-01  Francia     EN  VC-Estados Unidos-EN      caliente   \n",
      "...          ...      ...    ...                   ...           ...   \n",
      "1165  2024-07-03  Francia     ES        VC-Alemania-EN      caliente   \n",
      "1166  2024-07-03  Francia     ES          VC-España-ES      caliente   \n",
      "1167  2024-07-03  Francia     ES  VC-Estados Unidos-ES      caliente   \n",
      "1168  2024-07-03    Japón     EN          VC-España-EN          fría   \n",
      "1169  2024-07-03    Japón     ES  VC-Estados Unidos-ES          fría   \n",
      "\n",
      "      Cantidad vendida  \n",
      "0                    8  \n",
      "1                    6  \n",
      "2                    6  \n",
      "3                    2  \n",
      "4                    2  \n",
      "...                ...  \n",
      "1165                 2  \n",
      "1166                 2  \n",
      "1167                 2  \n",
      "1168                10  \n",
      "1169                10  \n",
      "\n",
      "[1170 rows x 6 columns]\n",
      "     Mensual    Región Idioma                Equipo Tipo de venta  \\\n",
      "0    2024-01  Alemania     EN          VC-España-EN      caliente   \n",
      "1    2024-01  Alemania     EN          VC-España-EN          fría   \n",
      "2    2024-01  Alemania     EN  VC-Estados Unidos-EN      caliente   \n",
      "3    2024-01  Alemania     EN  VC-Estados Unidos-EN          fría   \n",
      "4    2024-01  Alemania     ES        VC-Alemania-EN      caliente   \n",
      "..       ...       ...    ...                   ...           ...   \n",
      "333  2024-07     India     ES  VC-Estados Unidos-EN          fría   \n",
      "334  2024-07    Italia     EN  VC-Estados Unidos-EN          fría   \n",
      "335  2024-07    Italia     ES  VC-Estados Unidos-ES          fría   \n",
      "336  2024-07     Japón     EN          VC-España-EN          fría   \n",
      "337  2024-07     Japón     ES  VC-Estados Unidos-ES          fría   \n",
      "\n",
      "     Cantidad vendida  \n",
      "0                   9  \n",
      "1                  17  \n",
      "2                   9  \n",
      "3                  17  \n",
      "4                   9  \n",
      "..                ...  \n",
      "333                 6  \n",
      "334                 6  \n",
      "335                 6  \n",
      "336                10  \n",
      "337                10  \n",
      "\n",
      "[338 rows x 6 columns]\n"
     ]
    }
   ],
   "source": [
    "# Tras obtener un DF de vendedores que podamos usar,\n",
    "# Ahora toca crear DF para ventas diarias y acumuladas\n",
    "# mensuales\n",
    "\n",
    "df_ventas[\"Día\"] = df_ventas[\"Fecha de venta\"].dt.strftime(\"%Y-%m-%d\")\n",
    "df_ventas[\"Mensual\"] = df_ventas[\"Fecha de venta\"].dt.strftime(\"%Y-%m\")\n",
    "\n",
    "# Realizamos merge de DF ventas y vendedores\n",
    "df_ventas_final = df_ventas.merge(df_equipos[[\"Región\", \"Idioma\", \"Equipo\"]], on=\"Región\", how=\"left\")\n",
    "\n",
    "#Guardamos un df con las ventas diarias\n",
    "df_ventas_diarias = df_ventas_final.groupby([\"Día\", \"Región\", \"Idioma\",\"Equipo\",\"Tipo de venta\"]).agg({\"Cantidad vendida\": \"sum\"}).reset_index()\n",
    "print(df_ventas_diarias)\n",
    "#Guardamos un df con las ventas por mes\n",
    "df_ventas_mensuales = df_ventas_final.groupby([\"Mensual\", \"Región\", \"Idioma\",\"Equipo\",\"Tipo de venta\"]).agg({\"Cantidad vendida\": \"sum\"}).reset_index()\n",
    "print(df_ventas_mensuales)"
   ]
  },
  {
   "cell_type": "code",
   "execution_count": 200,
   "metadata": {},
   "outputs": [
    {
     "name": "stdout",
     "output_type": "stream",
     "text": [
      "Reporte generado con éxito\n"
     ]
    }
   ],
   "source": [
    "# Finalmente, generamos los reportes en Excel\n",
    "with pd.ExcelWriter(\"Reportes_Ventas.xlsx\") as writer:\n",
    "    df_ventas_diarias.to_excel(writer,sheet_name=\"Ventas diarias\",index=False)\n",
    "    df_ventas_mensuales.to_excel(writer,sheet_name=\"Ventas acumuladas\",index=False)\n",
    "    \n",
    "print(\"Reporte generado con éxito\")"
   ]
  }
 ],
 "metadata": {
  "kernelspec": {
   "display_name": "Python 3",
   "language": "python",
   "name": "python3"
  },
  "language_info": {
   "codemirror_mode": {
    "name": "ipython",
    "version": 3
   },
   "file_extension": ".py",
   "mimetype": "text/x-python",
   "name": "python",
   "nbconvert_exporter": "python",
   "pygments_lexer": "ipython3",
   "version": "3.10.6"
  }
 },
 "nbformat": 4,
 "nbformat_minor": 2
}
